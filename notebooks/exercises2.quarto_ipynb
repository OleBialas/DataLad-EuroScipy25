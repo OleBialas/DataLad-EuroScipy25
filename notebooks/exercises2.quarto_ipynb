{
  "cells": [
    {
      "cell_type": "markdown",
      "metadata": {},
      "source": [
        "---\n",
        "name: \"Tracking Data\"\n",
        "format: html\n",
        "jupyter: bash\n",
        "---\n",
        "\n",
        "## Modifying a Dataset\n",
        "\n",
        "| Code | Description |\n",
        "| --- | --- |\n",
        "| `datalas status` | Show any untracked changes in the current dataset |\n",
        "| `datalad save` | Save any untracked changes in the current dataset |\n",
        "| `datalad save -m \"hi\"` | Save untracked changes and add the message `\"hi\"` |\n",
        "| `datalad unlock file.txt` | Unlock `file.txt` to make it modifiable |\n",
        "| `git log` | View the dataset's history, stored in the `git log` |\n",
        "| `git log -3` | View the last `3` entries in the `git log` |\n",
        "\n",
        ":::{#exr-}\n",
        "Create a new file in the `penguins` folder called `penguin_species.txt` and add the species names *gentoo* and *adelie*. Then, save the file and run `datalad status` to see the untracked changes.\n",
        ":::\n",
        "::: {.callout-tip}\n",
        "## Solution"
      ],
      "id": "22c3d164"
    },
    {
      "cell_type": "code",
      "metadata": {},
      "source": [
        "echo -e \"gentoo\\adelie\" > penguin_species.txt\n",
        "datalad status"
      ],
      "id": "e8d5f2f7",
      "execution_count": null,
      "outputs": []
    },
    {
      "cell_type": "markdown",
      "metadata": {},
      "source": [
        ":::\n",
        "\n",
        ":::{#exr-}\n",
        "Use `datalad save` to save the untracked changes with the message `\"list penguin species\"`.\n",
        ":::\n",
        "::: {.callout-tip}\n",
        "## Solution"
      ],
      "id": "edb81fe0"
    },
    {
      "cell_type": "code",
      "metadata": {},
      "source": [
        "datalad save -m \"list penguin species\""
      ],
      "id": "c32028ac",
      "execution_count": null,
      "outputs": []
    },
    {
      "cell_type": "markdown",
      "metadata": {},
      "source": [
        ":::\n",
        "\n",
        ":::{#exr-}\n",
        "View the most recent entry in the `git log`\n",
        ":::\n",
        "::: {.callout-tip}\n",
        "# Solution"
      ],
      "id": "0e1bb73a"
    },
    {
      "cell_type": "code",
      "metadata": {},
      "source": [
        "git log -1"
      ],
      "id": "fb277606",
      "execution_count": null,
      "outputs": []
    },
    {
      "cell_type": "markdown",
      "metadata": {},
      "source": [
        ":::\n",
        "\n",
        ":::{#exr-}\n",
        "Use `datalad unlock` to unlock the `penguin_species.txt` file and append *chinstrap* to the list. Then, run `datalad save` again with a message to save the changes\n",
        ":::\n",
        "::: {.callout-tip}\n",
        "# Solution"
      ],
      "id": "7445fd48"
    },
    {
      "cell_type": "code",
      "metadata": {},
      "source": [
        "datalad unlock penguin_species.txt\n",
        "echo -e \"chinstrap\" >> pegnuin_species.txt\n",
        "datalad save -m \"add chinstrap\""
      ],
      "id": "099b68e1",
      "execution_count": null,
      "outputs": []
    },
    {
      "cell_type": "markdown",
      "metadata": {},
      "source": [
        ":::\n",
        "\n",
        ":::{#exr-}\n",
        "View the last two entries in the `git log`\n",
        ":::\n",
        "::: {.callout-tip}\n",
        "# Solution"
      ],
      "id": "736688c9"
    },
    {
      "cell_type": "code",
      "metadata": {},
      "source": [
        "git log -2"
      ],
      "id": "b85ebefd",
      "execution_count": null,
      "outputs": []
    },
    {
      "cell_type": "markdown",
      "metadata": {},
      "source": [
        ":::\n",
        "\n",
        "## Running Scripts with DataLad\n",
        "\n",
        "| Code | Description |\n",
        "| --- | --- |\n",
        "|`datalad run \"python script.py\"` | Run the `python` script `script.py` |\n",
        "|`datalad run --input \"data.csv\" --output \"figure.png\" \"python script.py\"` | Run `script.py` with input `\"data.csv\"` and output `\"figure.png\"`|\n",
        "| `git log` | View the dataset's histroy stored in the `git log` |\n",
        "| `datalad rerun a268d8ca22b6` | Rerun the command from the `git log` with the checksum starting with `a268d8ca22b6e87959` |\n",
        "| `datalad rerun --since a268d8ca22b6` | Rerun ALL commands `--since` the one with the checksum starting with `a268d8ca22b6e87959` |\n",
        "\n",
        "\n",
        ":::{#exr-}\n",
        "Try to run the `python` script in `code/aggregate_culmen_data.py`. What error message do you observe?\n",
        ":::\n",
        "::: {.callout-tip}\n",
        "# Solution"
      ],
      "id": "8b2dcfa5"
    },
    {
      "cell_type": "code",
      "metadata": {},
      "source": [
        "#| eval: false\n",
        "datalad run \"python code/aggregate_culmen_data.py\""
      ],
      "id": "087d2b03",
      "execution_count": null,
      "outputs": []
    },
    {
      "cell_type": "markdown",
      "metadata": {},
      "source": [
        "You should see `FileNotFoundError: [Errno 2] No such file or directory` because the dataset does not contain the annexed content of the required files.\n",
        ":::\n",
        "\n",
        ":::{#exr-run}\n",
        "(Put all tables in the same folder to avoid complicated glob pattern)\n",
        "Run the same script with the `data/` folder as `--input` and the file `\"results/penguin_culmens.csv\"` as `--output`.\n",
        ":::\n",
        "::: {.callout-tip}\n",
        "# Solution"
      ],
      "id": "8759b7db"
    },
    {
      "cell_type": "code",
      "metadata": {},
      "source": [
        "datalad run --input \"data/\" --output \"results/penguin_culmens.csv\" \"python code/aggregate_culmen_data.py\""
      ],
      "id": "ea4f2330",
      "execution_count": null,
      "outputs": []
    },
    {
      "cell_type": "markdown",
      "metadata": {},
      "source": [
        ":::\n",
        "\n",
        ":::{#exr-}\n",
        "View the most recent entry in the `git log`\n",
        ":::\n",
        "::: {.callout-tip}\n",
        "# Solution"
      ],
      "id": "b40fca5a"
    },
    {
      "cell_type": "code",
      "metadata": {},
      "source": [
        "git log -1"
      ],
      "id": "30fbdea2",
      "execution_count": null,
      "outputs": []
    },
    {
      "cell_type": "markdown",
      "metadata": {},
      "source": [
        ":::\n",
        "\n",
        ":::{#exr-}\n",
        "Open the git log to find the checksum of the commit for the run command from @exr-csv and re-run it.\n",
        ":::\n",
        "::: {.callout-tip}\n",
        "# Solution\n",
        "In the code below, `$(git rev-parse HEAD)` gets the checksum for the latest commit but you can also open `git log` and copy-paste the checksum."
      ],
      "id": "a5f6fdac"
    },
    {
      "cell_type": "code",
      "metadata": {},
      "source": [
        "datalad rerun $(git rev-parse HEAD)"
      ],
      "id": "6f6f0808",
      "execution_count": null,
      "outputs": []
    },
    {
      "cell_type": "markdown",
      "metadata": {},
      "source": [
        ":::\n",
        "\n",
        ":::{#exr-}\n",
        "Run the script `code/plot_culmen_length_vs_depth.py` --- it takes `results/penguin_culmens.csv` as `--input` and produces `results/culmen_length_vs_depth.png` as an output.\n",
        ":::"
      ],
      "id": "7d537367"
    },
    {
      "cell_type": "code",
      "metadata": {},
      "source": [
        "datalad run --input \"results/penguin_culmens.csv\" --output \"results/culmen_length_vs_depth.png\" \"python code/plot_culmen_length_vs_depth.py\""
      ],
      "id": "4f06c04b",
      "execution_count": null,
      "outputs": []
    },
    {
      "cell_type": "markdown",
      "metadata": {},
      "source": [
        ":::{#exr-}\n",
        "Open the git log to find the checksum of the commit for the run command from @exr-csv and re-run everything `--since` this commit (i.e. the data aggregation and plotting scripts).\n",
        ":::\n",
        "::: {.callout-tip}\n",
        "# Solution\n",
        "In the code below, `$(git rev-parse HEAD)` gets the checksum for the second latest commit but you can also open `git log` and copy-paste the checksum."
      ],
      "id": "ec510662"
    },
    {
      "cell_type": "code",
      "metadata": {},
      "source": [
        "datalad rerun --since $(git rev-parse HEAD~1)"
      ],
      "id": "0591c3eb",
      "execution_count": null,
      "outputs": []
    },
    {
      "cell_type": "markdown",
      "metadata": {},
      "source": [
        ":::\n"
      ],
      "id": "ec519bc3"
    }
  ],
  "metadata": {
    "kernelspec": {
      "name": "bash",
      "language": "bash",
      "display_name": "Bash",
      "path": "/home/olebi/.local/share/jupyter/kernels/bash"
    }
  },
  "nbformat": 4,
  "nbformat_minor": 5
}